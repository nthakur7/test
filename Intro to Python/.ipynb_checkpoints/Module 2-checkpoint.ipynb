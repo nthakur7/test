{
 "cells": [
  {
   "cell_type": "markdown",
   "metadata": {},
   "source": [
    "# Recap\n",
    "\n",
    "<b>Built-in Functions: input()</b>\n",
    "\n",
    "<code>X = input(“Enter your name: ”)\n",
    "    \n",
    "print(“Hello “ + X)</code>\n",
    "\n",
    "Remember: X is a String \n",
    "\n",
    "Hint: If user gives a number, you have to convert to integer to do math operations "
   ]
  },
  {
   "cell_type": "markdown",
   "metadata": {},
   "source": [
    "<b>Basic Data Types: Conversion</b>\n",
    "\n",
    "Python has built-in functions to convert from one type to another:\n",
    "\n",
    "    str(123) converts integer to string, “123”\n",
    "\n",
    "    int(“123”) converts string to integer, 123\n",
    "\n",
    "    float(123) converts integer to float, 123.0\n",
    "\n",
    "NOTE: input always returns a string value!!!"
   ]
  },
  {
   "cell_type": "markdown",
   "metadata": {},
   "source": [
    "<b>Math Operators</b>\n",
    "\n",
    "<img src=\"images/mathop.png\">"
   ]
  },
  {
   "cell_type": "markdown",
   "metadata": {},
   "source": [
    "<b>Variables & Math: In-Class Exercises</b>\n",
    "\n",
    "1) Get a users age and then print what his age will be in 20 years. Calculate when will this person turn 100.\n",
    "\n",
    "2) Take two numbers from input and print 3 outputs:\n",
    "\n",
    "    The first line contains the sum of the two numbers.\n",
    "    \n",
    "    The second line contains the difference of the two numbers (first - second).\n",
    "    \n",
    "    The third line contains the product of the two numbers.\n",
    "    \n",
    "3) Calculate the square of a number \n",
    "\n",
    "BONUS: Read two integers and print two lines. The first line should contain integer division. The second line should contain float division.\n",
    "\n",
    "\n",
    "\n",
    "\n"
   ]
  },
  {
   "cell_type": "code",
   "execution_count": null,
   "metadata": {},
   "outputs": [],
   "source": [
    "#Problem 1"
   ]
  },
  {
   "cell_type": "code",
   "execution_count": null,
   "metadata": {},
   "outputs": [],
   "source": [
    "#Problem 2"
   ]
  },
  {
   "cell_type": "code",
   "execution_count": null,
   "metadata": {},
   "outputs": [],
   "source": [
    "#Problem 3"
   ]
  },
  {
   "cell_type": "code",
   "execution_count": null,
   "metadata": {},
   "outputs": [],
   "source": [
    "#BONUS"
   ]
  },
  {
   "cell_type": "markdown",
   "metadata": {},
   "source": [
    "<b>Exercise</b>\n",
    "\n",
    "You have 20 cucumbers. The price of each cucumber is $1.25. Write code to find out the total cost of all cucumbers and print out your result  (“The total cost of cucumbers is ((your answer))”)\n",
    "\n",
    "HINT: any math operation involving a float will product a result which is a float\n",
    "\n",
    "    E.g. int_variable * float_variable will product the result at float_variable \n",
    "    \n",
    "    To find the data type of a variable, use the command type(variable_name) on the command line\n",
    "\n"
   ]
  },
  {
   "cell_type": "code",
   "execution_count": null,
   "metadata": {},
   "outputs": [],
   "source": []
  },
  {
   "cell_type": "markdown",
   "metadata": {},
   "source": [
    "<img src = \"images/cupstack.png\" alt=\"Drawing\" style=\"width: 800px;\">"
   ]
  },
  {
   "cell_type": "markdown",
   "metadata": {},
   "source": [
    "# Pseudocode\n",
    "\n",
    "Algorithms are the list of steps for completing a task. \n",
    "\n",
    "Pseudocode is the instruction set or list of commands written in English.\n",
    "\n",
    "Write the pseudocode for the exercise we just did!"
   ]
  },
  {
   "cell_type": "code",
   "execution_count": null,
   "metadata": {},
   "outputs": [],
   "source": []
  },
  {
   "cell_type": "markdown",
   "metadata": {},
   "source": [
    "<b>In Class Activity.</b>\n",
    "\n",
    "You can only use the following commands: \n",
    "\n",
    "    “forward by x” (where x is the number of steps)\n",
    "    “backward by x”\n",
    "    “rotate left”\n",
    "    “rotate right”. \n",
    "    \n",
    "How can you instruct someone to EXIT the classroom? Write down the steps."
   ]
  },
  {
   "cell_type": "code",
   "execution_count": null,
   "metadata": {},
   "outputs": [],
   "source": []
  },
  {
   "cell_type": "markdown",
   "metadata": {},
   "source": [
    "<b>Pseudocode/Algorithm: Mapping to Programs</b>\n",
    "\n",
    "<img src = \"images/programalg.png\" alt=\"Drawing\" style=\"width: 400px;\"/>"
   ]
  },
  {
   "cell_type": "markdown",
   "metadata": {},
   "source": [
    "# Libraries: \n",
    "\n",
    "<b>What is a Library?</b>\n",
    "\n",
    "A library is a collection of predefined functions. \n",
    "\n",
    "The import keyword loads a library into your program: \n",
    "\n",
    "<code>from turtle import Turtle</code>"
   ]
  },
  {
   "cell_type": "markdown",
   "metadata": {},
   "source": [
    "<b>Turtle Library</b>\n",
    "\n",
    "The Turtle library allows us to easily draw lines, shapes, and objects using functions"
   ]
  },
  {
   "cell_type": "markdown",
   "metadata": {},
   "source": [
    "<b>Drawing with Turtle</b>"
   ]
  },
  {
   "cell_type": "markdown",
   "metadata": {},
   "source": [
    "<img src=\"images/turtlemovement.png\" alt=\"Drawing\" style=\"width: 400px;\"/>"
   ]
  },
  {
   "cell_type": "code",
   "execution_count": null,
   "metadata": {},
   "outputs": [],
   "source": [
    "from turtle import Turtle\n",
    "\n",
    "t = Turtle()\n",
    "t.forward(100)\n",
    "t.left(90)\n",
    "t.forward(100)\n",
    "\n",
    "# Write more code here...\n"
   ]
  },
  {
   "cell_type": "markdown",
   "metadata": {},
   "source": [
    "<b>Side Note: Drawing on a Coordinate Plane</b>\n",
    "\n",
    "Like plotting points on a graph, drawing in Turtle references a coordinate plane with positive and negative x- and y- axis\n",
    "\n",
    "What are the values of the three points?\n",
    "\n",
    "<img src=\"images/coord.png\" alt=\"Drawing\" style=\"width: 400px;\"/>"
   ]
  },
  {
   "cell_type": "markdown",
   "metadata": {},
   "source": [
    "<b>In-Class Activity</b>\n",
    "\n",
    "How can we draw a square using Turtle?\n",
    "\n",
    "    Draw a square on paper\n",
    "    \n",
    "    Write the pseudocode that you just used to draw the square on paper. Start from the second you place your pen down on the paper\n",
    "    \n",
    "    Compare your pseudocode with a partner, until you have the same code\n",
    "    \n",
    "    Translate pseudocode to Python! Use comments first to showcase the pseudocode\n"
   ]
  },
  {
   "cell_type": "code",
   "execution_count": null,
   "metadata": {},
   "outputs": [],
   "source": []
  },
  {
   "cell_type": "markdown",
   "metadata": {},
   "source": [
    "<b>Turtle Library Functions</b>\n",
    "\n",
    "Moving/Drawing:\n",
    "\n",
    "    forward(distance)\n",
    "    backward(distance)\n",
    "    left(angle)\n",
    "    right(angle)\n",
    "    circle(radius size)\n",
    "    dot(diameter)\n",
    "    goto(x,y)\n",
    "\n",
    "Pen:\n",
    "\n",
    "    color(‘color’)\n",
    "    width(size)\n",
    "    penup()\n",
    "    pendown()\n",
    "    fillcolor(‘color’)\n",
    "    pencolor(‘color’)\n",
    "    begin_fill()/end_fill()\n",
    "    shape(‘shape’)\n",
    "    speed(speed)"
   ]
  },
  {
   "cell_type": "markdown",
   "metadata": {},
   "source": [
    "<b>Classwork</b>\n",
    "\n",
    "Remember to start with pseudocode & Comments!\n",
    "\n",
    "    Draw a triangle\n",
    "    \n",
    "    Draw circles on the screen at different locations \n",
    "    \n",
    "    Draw both bullseyes\n",
    "    \n",
    "    Use circles\n",
    "    \n",
    "    Use dots\n",
    "    \n",
    "<img src=\"images/bullseye.png\" alt=\"Drawing\" style=\"width: 400px;\"/>"
   ]
  },
  {
   "cell_type": "code",
   "execution_count": null,
   "metadata": {},
   "outputs": [],
   "source": []
  },
  {
   "cell_type": "markdown",
   "metadata": {},
   "source": [
    "<b>BONUS</b>\n",
    "\n",
    "Draw a House\n",
    "\n",
    "Don’t worry if you cannot finish this. It’s tedious and we will get to the bottom of how we can make this easier!\n",
    "\n",
    "    \n",
    "<img src=\"images/house.png\" alt=\"Drawing\" style=\"width: 200px;\"/>"
   ]
  },
  {
   "cell_type": "code",
   "execution_count": null,
   "metadata": {},
   "outputs": [],
   "source": []
  }
 ],
 "metadata": {
  "kernelspec": {
   "display_name": "Python 3",
   "language": "python",
   "name": "python3"
  },
  "language_info": {
   "codemirror_mode": {
    "name": "ipython",
    "version": 3
   },
   "file_extension": ".py",
   "mimetype": "text/x-python",
   "name": "python",
   "nbconvert_exporter": "python",
   "pygments_lexer": "ipython3",
   "version": "3.7.3"
  }
 },
 "nbformat": 4,
 "nbformat_minor": 4
}
