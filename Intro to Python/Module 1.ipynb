{
 "cells": [
  {
   "cell_type": "markdown",
   "metadata": {},
   "source": [
    "<b>Python: The World’s Most Popular Programming Language</b>\n",
    "\n",
    "<img src=\"images/pythongraph.png\" alt=\"Drawing\" style=\"width: 500px;\"/>\n",
    "\n",
    "\"I CERTAINLY didn’t set out to create a language that was intended for mass consumption,” says Guido van Rossum, a Dutch computer scientist who devised Python, a programming language, in 1989. But nearly three decades on, his invention has overtaken almost all of its rivals and brought coding to the fingertips of people who were once baffled by it. In the past 12 months Americans have searched for Python on Google more often than for Kim Kardashian, a reality-TV star. The number of queries has trebled since 2010, while those for other major programming languages have been flat or declining.  From Economist Jul 2018"
   ]
  },
  {
   "cell_type": "markdown",
   "metadata": {},
   "source": [
    "<b>Idle: What is it?</b>\n",
    "\n",
    "Idle allows us to write and run Python code, which is interpreted by the computer\n",
    "\n",
    "    Writing code in the shell - Code runs immediately\n",
    "\n",
    "    Writing code in a file - Code executes when you run the module"
   ]
  },
  {
   "cell_type": "markdown",
   "metadata": {},
   "source": [
    "<b>Python: Built in Functions</b>\n",
    "\n",
    "What is a function?\n",
    "    \n",
    "    Used to execute a certain instruction/set of instructions\n",
    "    \n",
    "Looks like this:\n",
    "\n",
    "   <code>function_name(parameter1, parameter2)</code>\n",
    "\n",
    "What is a built-in function?\n",
    "\n",
    "    A predefined function that Python can interpret without our need to supply the instructions\n"
   ]
  },
  {
   "cell_type": "markdown",
   "metadata": {},
   "source": [
    "<b>Built In Functions: print()</b>\n",
    "\n",
    "Thought Question:\n",
    "\n",
    "    What is the name of the function?\n",
    "\n",
    "    What do you think this function does?\n",
    "\n",
    "    Does the function take input parameters?\n",
    "   \n",
    "This is what the computer will ‘output’ "
   ]
  },
  {
   "cell_type": "markdown",
   "metadata": {},
   "source": [
    "Lets make our computer “say” something:"
   ]
  },
  {
   "cell_type": "code",
   "execution_count": null,
   "metadata": {},
   "outputs": [],
   "source": [
    "#execute the following code\n",
    "\n",
    "print(\"Hello World\")"
   ]
  },
  {
   "cell_type": "markdown",
   "metadata": {},
   "source": [
    "What happens when we run the command above?"
   ]
  },
  {
   "cell_type": "markdown",
   "metadata": {},
   "source": [
    "<b>In Class Exercise</b>\n",
    "\n",
    "Print the following:\n",
    "\n",
    "    Name\n",
    "    Favorite Colors"
   ]
  },
  {
   "cell_type": "code",
   "execution_count": null,
   "metadata": {},
   "outputs": [],
   "source": []
  },
  {
   "cell_type": "markdown",
   "metadata": {},
   "source": [
    "<b>Printing Practice</b>\n",
    "\n",
    "Print out your name, your age, and your favorite color all on three separate lines using three print statements.\n",
    "    \n",
    "Now use one print statement separated with commas to do the task above\n",
    "\n",
    "Print out a block of stars ‘*’ 3 rows and 5 columns using 3 print statements\n",
    "\n",
    "Print out a block of stars ‘*’ 3 rows and 5 columns using 1 print statement.\n",
    "    Hint: use the newline character.\n",
    "\n",
    "    *****\n",
    "    *****   ⇐ Sample\n",
    "    *****"
   ]
  },
  {
   "cell_type": "code",
   "execution_count": null,
   "metadata": {},
   "outputs": [],
   "source": []
  },
  {
   "cell_type": "code",
   "execution_count": null,
   "metadata": {},
   "outputs": [],
   "source": []
  },
  {
   "cell_type": "code",
   "execution_count": null,
   "metadata": {},
   "outputs": [],
   "source": []
  },
  {
   "cell_type": "code",
   "execution_count": null,
   "metadata": {},
   "outputs": [],
   "source": []
  },
  {
   "cell_type": "markdown",
   "metadata": {},
   "source": [
    "<b>Variables</b>\n",
    "\n",
    "A variable will store some value for us to re-use over and over again!\n",
    "\n",
    "When we want to store information, we assign a variable a value\n"
   ]
  },
  {
   "cell_type": "markdown",
   "metadata": {},
   "source": [
    "<img src=\"images/variables.png\">"
   ]
  },
  {
   "cell_type": "markdown",
   "metadata": {},
   "source": [
    "<b>Variables: Creation</b>\n",
    "\n",
    "In code, a variable is set equal to some value:\n",
    "<img src=\"images/variablecreation.png\" alt=\"Drawing\" style=\"width: 400px;\"/>"
   ]
  },
  {
   "cell_type": "markdown",
   "metadata": {},
   "source": [
    "<b>Variables: Naming Convention</b>\n",
    "\n",
    "Snake case (lower case, words separated by ‘_’)\n",
    "     \n",
    "     my_name\n",
    "     age \n",
    "\n",
    "Cannot start with a number or have spaces in-between \n",
    "\n",
    "No special characters (such as # or %) allowed"
   ]
  },
  {
   "cell_type": "markdown",
   "metadata": {},
   "source": [
    "<b>Variables: Example</b>"
   ]
  },
  {
   "cell_type": "code",
   "execution_count": null,
   "metadata": {},
   "outputs": [],
   "source": [
    "#try running the following code!\n",
    "\n",
    "h_word = \"Hello\"\n",
    "p_word = \"Python\"\n",
    "print(h_word + p_word)"
   ]
  },
  {
   "cell_type": "markdown",
   "metadata": {},
   "source": [
    "<b>Built-in Functions: input()</b>\n",
    "\n",
    "\n",
    "Thought Question:\n",
    "\n",
    "    What is the function name?\n",
    "\n",
    "    What do you think this function does?\n",
    "\n",
    "    Does it take in any input parameters?\n"
   ]
  },
  {
   "cell_type": "code",
   "execution_count": null,
   "metadata": {},
   "outputs": [],
   "source": [
    "#try running the following code!\n",
    "\n",
    "my_name = input(\"Enter your name: \")\n",
    "print(\"Hello \" + my_name)"
   ]
  },
  {
   "cell_type": "markdown",
   "metadata": {},
   "source": [
    "<b>Input Exercises</b>\n",
    "\n",
    "Use the input function to perform the following:\n",
    "\n",
    "    1) Have the user input their name and then print the name\n",
    "\n",
    "    2) Print a greeting message using the name\n",
    "\n",
    "    BONUS: Make a madlib by getting 4 variables from user input - a character, a place and a thing and an adjective. Using the inputs and the print() function, create a funny  madlib story!"
   ]
  },
  {
   "cell_type": "code",
   "execution_count": null,
   "metadata": {},
   "outputs": [],
   "source": [
    "#Problem 1\n"
   ]
  },
  {
   "cell_type": "code",
   "execution_count": null,
   "metadata": {},
   "outputs": [],
   "source": [
    "#Problem 2\n"
   ]
  },
  {
   "cell_type": "code",
   "execution_count": null,
   "metadata": {},
   "outputs": [],
   "source": [
    "#BONUS madlib\n"
   ]
  },
  {
   "cell_type": "markdown",
   "metadata": {},
   "source": [
    "<b>Commenting in Python</b>\n",
    "\n",
    "Use '#' at the beginning of a statement to create a comment\n",
    "\n",
    "<code>#This is a comment. Computer will ignore this instruction</code>"
   ]
  },
  {
   "cell_type": "markdown",
   "metadata": {},
   "source": [
    "<b>Input Practice Using a File. Comment your code</b>\n",
    "\n",
    "Ask the user for their name and their age. Then, ask them for their choice of living area. Finally, print out those three values. \n",
    "\n",
    "(Make sure to store these values in properly named variables.)\n",
    "\n",
    "Example: \n",
    "\n",
    "    What is your name? Sidney\n",
    "\n",
    "    How old are you? 17\n",
    "\n",
    "    Where would you like to live? in a cardboard box.\n",
    "\n",
    "    Sidney, who is 17, wants to live in a cardboard box.\n"
   ]
  },
  {
   "cell_type": "code",
   "execution_count": null,
   "metadata": {},
   "outputs": [],
   "source": []
  },
  {
   "cell_type": "markdown",
   "metadata": {},
   "source": [
    "<b>Data Types</b>\n",
    "\n",
    "The computer needs to know what type of information a variable is going to hold. \n",
    "\n",
    "Is it a number? A word? In Python, assigning a value to a variable automatically creates a data type"
   ]
  },
  {
   "cell_type": "markdown",
   "metadata": {},
   "source": [
    "String (“str”) - always in quotation marks (single or double marks), similar to a word or character\n",
    "\n",
    "<code>A = “Python” </code>\n",
    "    \n",
    "Integer (“int”) - a whole number, used for math operations\n",
    "\n",
    "<code>B = 123</code>\n",
    "    \n",
    "Float (“float”) - a number with a decimal\n",
    "\n",
    "<code>C = 5.4</code>\n"
   ]
  },
  {
   "cell_type": "markdown",
   "metadata": {},
   "source": [
    "<b>Classwork</b>\n",
    "\n",
    "Determine the Data Type of each of the following variables.\n",
    "\n",
    "    A = 12.0\n",
    "    B = “Hello World”\n",
    "    C = -1\n",
    "    D = “C”\n",
    "    E = D + B\n",
    "    F = input(“What is your age?”)"
   ]
  },
  {
   "cell_type": "markdown",
   "metadata": {},
   "source": [
    "<b>Basic Data Types: Conversion</b>\n",
    "\n",
    "Python has built-in functions to convert from one type to another:\n",
    "\n",
    "<code>str(123)</code> converts integer to string, “123”\n",
    "\n",
    "<code>int(“123”)</code> converts string to integer and float to integer, 123\n",
    "\n",
    "<code>float(123)</code> converts integer to float, 123.0\n",
    "\n",
    "NOTE: input always returns a string value!!!"
   ]
  },
  {
   "cell_type": "markdown",
   "metadata": {},
   "source": [
    "<b>Classwork</b>\n",
    "\n",
    "Using only the given variables below,\n",
    "\n",
    "    A = 3\n",
    "    B = “2”\n",
    "    C = 1.0\n",
    "\n",
    "Print the value “32”\n",
    "\n",
    "Print the value 54\n",
    "\n",
    "Print the value “1234”\n",
    "\n",
    "Print the value 64 \n"
   ]
  },
  {
   "cell_type": "code",
   "execution_count": null,
   "metadata": {},
   "outputs": [],
   "source": []
  },
  {
   "cell_type": "markdown",
   "metadata": {},
   "source": [
    "<b>More Practice! Use a file and comments</b>\n",
    "\n",
    "Make a scenery using the print statement and symbols: *^-  etc\n",
    "\n",
    "<code>print(\"                                                      \") # sky</code>\n",
    "\n",
    "<code>print(\"                        \\  '  /                       \") # sun</code>\n",
    "\n",
    "<code>print(\"                          .-.          ^^             \") # wave</code>\n",
    "\n",
    "<code>print(\"                     -=  (   )  =-       ^^           \") # horizon</code>\n",
    "\n",
    "<code>print(\"~ - ~ ^ ~ ^ ~ - = ~ = ~ = - ~ ^ ~ ^ ~ ^ - ~ ^ ~ ^ ~ ^ ~\") # ocean</code>\n",
    "\n",
    "<code>print(\"~ ~ - ~ ^ ~ ^ ~ - = ^ ~ ~ ^ - ~ ^ ~ ^ ~ ^ - ~ ^ ~ ^ ~ ^\")</code>\n",
    "\n",
    "<code>print(\". : . . : : : : . . : . . : . : : . : : . . . : : : . .\") # beach</code>\n",
    "\n",
    "<code>print(\": : : : : : : : : : : : : : : : : : : : : : : : : : : :\")</code>"
   ]
  },
  {
   "cell_type": "code",
   "execution_count": null,
   "metadata": {},
   "outputs": [],
   "source": []
  }
 ],
 "metadata": {
  "kernelspec": {
   "display_name": "Python 3",
   "language": "python",
   "name": "python3"
  },
  "language_info": {
   "codemirror_mode": {
    "name": "ipython",
    "version": 3
   },
   "file_extension": ".py",
   "mimetype": "text/x-python",
   "name": "python",
   "nbconvert_exporter": "python",
   "pygments_lexer": "ipython3",
   "version": "3.7.3"
  }
 },
 "nbformat": 4,
 "nbformat_minor": 4
}
