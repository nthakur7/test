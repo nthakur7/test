{
 "cells": [
  {
   "cell_type": "markdown",
   "metadata": {},
   "source": [
    "# Looping"
   ]
  },
  {
   "cell_type": "markdown",
   "metadata": {},
   "source": [
    "<b>What is Looping?</b>\n",
    "\n",
    "Sometimes we want the computer to keep executing the same code again and again. \n",
    "\n",
    "We have a handful of ways to get the computer to repeat itself."
   ]
  },
  {
   "cell_type": "markdown",
   "metadata": {},
   "source": [
    "What is the pseudocode happening here?"
   ]
  },
  {
   "cell_type": "code",
   "execution_count": 1,
   "metadata": {},
   "outputs": [
    {
     "data": {
      "text/html": [
       "\n",
       "<video controls>\n",
       "<source type =\"video/mp4\" src=\"images/dots.mp4\"/>\n",
       "</video>"
      ],
      "text/plain": [
       "<IPython.core.display.HTML object>"
      ]
     },
     "execution_count": 1,
     "metadata": {},
     "output_type": "execute_result"
    }
   ],
   "source": [
    "# RUN THIS CELL TO PLAY DOTS ANIMATION VIDEO\n",
    "\n",
    "from IPython.display import HTML\n",
    "\n",
    "HTML(\"\"\"\n",
    "<video controls>\n",
    "<source type =\"video/mp4\" src=\"images/dots.mp4\"/>\n",
    "</video>\"\"\")"
   ]
  },
  {
   "cell_type": "markdown",
   "metadata": {},
   "source": [
    "<b>Without Looping</b>\n",
    "\n",
    "We’re doing something along the lines of...\n",
    "\n",
    "    Draw a circle at an x and y coordinate\n",
    "    Change the coordinates by some value\n",
    "    \n",
    "    Draw a circle at an x and y coordinate\n",
    "    Change the coordinates by some value\n",
    "    \n",
    "    Draw a circle at an x and y coordinate\n",
    "    Change the coordinates by some value\n",
    "    \n",
    "    Draw a circle at an x and y coordinate\n",
    "    Change the coordinates by some value\n",
    "    \n",
    "……  Notice a pattern? There must be a better way!  "
   ]
  },
  {
   "cell_type": "markdown",
   "metadata": {},
   "source": [
    "<b>For Loops</b>\n",
    "\n",
    "\"for” loops are used when you have a block of code which you want to repeat a fixed number of times. \n",
    "\n",
    "<code>for index in range(0, 2):\n",
    "#Do something repeatedly</code>\n"
   ]
  },
  {
   "cell_type": "markdown",
   "metadata": {},
   "source": [
    "Similar to a “while” loop, the “for” loop has a header (loop declaration) and a body (code we want to repeat over and over again)\n",
    "\n",
    "<img src = \"images/forloops.png\" alt=\"Drawing\" style=\"width: 700px;\"/>"
   ]
  },
  {
   "cell_type": "markdown",
   "metadata": {},
   "source": [
    "We use a variable to check the condition on which to keep looping\n",
    "\n",
    "The range represents the values of the loop variable for which the body can be executed\n",
    "\n",
    "<img src = \"images/forloops2.png\" alt=\"Drawing\" style=\"width: 700px;\"/>\n",
    "\n",
    "NOTE: The “end” condition is non-inclusive!"
   ]
  },
  {
   "cell_type": "markdown",
   "metadata": {},
   "source": [
    "The range can be specified 3 ways\n",
    "\n",
    "1) Using two parameters for range()\n",
    "    \n",
    "<code>for index in range(0,2):</code>\n",
    "    \n",
    "    Loop #1: index=0\n",
    "    Loop #2: index=1\n",
    "    \n",
    "2) Using three parameters for range()\n",
    "\n",
    "<code>for index in range(0,6,2):</code> <-- increment by 2 each time, starting at 0 upto and not including 6\n",
    "\n",
    "    Loop #1: index = 0\n",
    "    Loop #2: index = 2\n",
    "    Loop #3: index = 4\n",
    "\n",
    "3) Using one parameter for range()\n",
    "\n",
    "<code>for index in range(3)</code> <-- Loop 3 times and index starts at 0 (by default)\n",
    "\n",
    "    Loop #1: index = 0\n",
    "    Loop #2: index = 1\n",
    "    Loop #3: index = 2"
   ]
  },
  {
   "cell_type": "markdown",
   "metadata": {},
   "source": [
    "<b>Classwork</b>\n",
    "\n",
    "1) Use a “for” loop to print the numbers from 1 to 100. \n",
    "\n",
    "2) Use a for loop to find the total sum of numbers between 1 and 100 (1 + 2 + 3 + ... + 100). Print out this value\n",
    "\n",
    "3) Use a for loop to sum all the squares of the first 50 numbers \n",
    "\n",
    "4) Use a for loop to square the sum of the first 50 numbers. \n",
    "\n",
    "5) Now find the difference between the answer in 3 and 4! \n",
    "\n",
    "6) Use a for loop to find the sum of the squares of numbers 100-150 (BONUS)\n",
    "\n",
    "7) Use a for loop to find the sum of the squares  of numbers 200-250 (BONUS)\n"
   ]
  },
  {
   "cell_type": "code",
   "execution_count": null,
   "metadata": {},
   "outputs": [],
   "source": [
    "# Problem 1"
   ]
  },
  {
   "cell_type": "code",
   "execution_count": null,
   "metadata": {},
   "outputs": [],
   "source": [
    "# Problem 2"
   ]
  },
  {
   "cell_type": "code",
   "execution_count": null,
   "metadata": {},
   "outputs": [],
   "source": [
    "# Problem 3"
   ]
  },
  {
   "cell_type": "code",
   "execution_count": null,
   "metadata": {},
   "outputs": [],
   "source": [
    "# Problem 4"
   ]
  },
  {
   "cell_type": "code",
   "execution_count": null,
   "metadata": {},
   "outputs": [],
   "source": [
    "# Problem 5"
   ]
  },
  {
   "cell_type": "code",
   "execution_count": null,
   "metadata": {},
   "outputs": [],
   "source": [
    "# Problem 6"
   ]
  },
  {
   "cell_type": "code",
   "execution_count": null,
   "metadata": {},
   "outputs": [],
   "source": [
    "# Problem 7"
   ]
  },
  {
   "cell_type": "markdown",
   "metadata": {},
   "source": [
    "<b>Exercises with Turtle</b>\n",
    "\n",
    "<img src = \"images/spiral.png\" alt=\"Drawing\" style=\"width: 400px;\"/>"
   ]
  },
  {
   "cell_type": "code",
   "execution_count": null,
   "metadata": {},
   "outputs": [],
   "source": [
    "# try to recreate the image above!\n",
    "\n",
    "from turtle import Turtle\n",
    "\n",
    "t = Turtle()\n",
    "for index in range(500):\n",
    "   # your code here\n",
    "\n",
    "# Now add color to this!"
   ]
  },
  {
   "cell_type": "markdown",
   "metadata": {},
   "source": [
    "<b>Blue Flowers Project</b>\n",
    "\n",
    "<img src = \"images/blueflower.png\" alt=\"Drawing\" style=\"width: 200px;\"/>"
   ]
  },
  {
   "cell_type": "code",
   "execution_count": null,
   "metadata": {},
   "outputs": [],
   "source": [
    "# recreate the drawing above!\n",
    "\n",
    "from turtle import *\n",
    "from random import randint\n",
    "\n",
    "pencolor(\"blue\")\n",
    "circle_size = 20\n",
    "\n",
    "for i in range(6):\n",
    "    circle(circle_size)\n",
    "    # your code here"
   ]
  },
  {
   "cell_type": "markdown",
   "metadata": {},
   "source": [
    "<b>Looping Practice - Fun Challenges!</b>\n",
    "\n",
    "Ask the user for an input, N, which is a positive integer. Store N in a variable.\n",
    "\n",
    "1) Print an asterisk square of size NxN.\n",
    "\n",
    "    ****\n",
    "    **** \t\t⇐ Ex: N = 4\n",
    "    ****\n",
    "    ****\n",
    "\n",
    "2) Print an asterisk tree of size N.\n",
    "\n",
    "    *\n",
    "    ** \t\t⇐ Ex: N = 4\n",
    "    ***\n",
    "    ****\n",
    "\n",
    "3) Print an asterisk loop of size NxN.\n",
    "  \n",
    "    ****\n",
    "    *  * \t\t⇐ Ex: N = 4\n",
    "    *  *\n",
    "    ****"
   ]
  },
  {
   "cell_type": "code",
   "execution_count": null,
   "metadata": {},
   "outputs": [],
   "source": [
    "# Problem 1\n"
   ]
  },
  {
   "cell_type": "code",
   "execution_count": null,
   "metadata": {},
   "outputs": [],
   "source": [
    "# Problem 2\n"
   ]
  },
  {
   "cell_type": "code",
   "execution_count": null,
   "metadata": {},
   "outputs": [],
   "source": [
    "# Problem 3\n"
   ]
  }
 ],
 "metadata": {
  "kernelspec": {
   "display_name": "Python 3",
   "language": "python",
   "name": "python3"
  },
  "language_info": {
   "codemirror_mode": {
    "name": "ipython",
    "version": 3
   },
   "file_extension": ".py",
   "mimetype": "text/x-python",
   "name": "python",
   "nbconvert_exporter": "python",
   "pygments_lexer": "ipython3",
   "version": "3.7.3"
  }
 },
 "nbformat": 4,
 "nbformat_minor": 4
}
