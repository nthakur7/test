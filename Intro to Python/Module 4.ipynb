{
 "cells": [
  {
   "cell_type": "markdown",
   "metadata": {},
   "source": [
    "# Booleans"
   ]
  },
  {
   "cell_type": "markdown",
   "metadata": {},
   "source": [
    "In programming, we create conditions that can only be true or false. This is called a boolean and is stored in the computer as 1 bit!\n",
    "\n",
    "Examples:\n",
    "\n",
    "    Condition #1: Is 2 is less than 3? → Answer: true\n",
    "    \n",
    "    Condition #2: Is 2 is equal to 2? → Answer: true\n",
    "    \n",
    "    Condition #3: Is 2 is not equal to 2? → Answer: false\n"
   ]
  },
  {
   "cell_type": "markdown",
   "metadata": {},
   "source": [
    "<b>Comparison (Logic) Operators to create statements</b>\n",
    "\n",
    "<img src = \"images/operators.png\" alt=\"Drawing\" style=\"width: 500px;\"/>"
   ]
  },
  {
   "cell_type": "markdown",
   "metadata": {},
   "source": [
    "<b>Class Exercise</b>\n",
    "\n",
    "1) Create examples of comparison statements which will evaluate to the value True for each comparison operator (==, !=, >, <, >=, <=)\n",
    "\n",
    "2) Create examples of comparison statements which will evaluate to the value False for each comparison operator (==, !=, >, <, >=, <=)\n",
    "\n",
    "3) What is the result of the following statement: “True == True”? What about “True == False”?\n"
   ]
  },
  {
   "cell_type": "code",
   "execution_count": null,
   "metadata": {},
   "outputs": [],
   "source": [
    "# Problem 1\n"
   ]
  },
  {
   "cell_type": "code",
   "execution_count": null,
   "metadata": {},
   "outputs": [],
   "source": [
    "# Problem 2\n"
   ]
  },
  {
   "cell_type": "code",
   "execution_count": null,
   "metadata": {},
   "outputs": [],
   "source": [
    "# Problem 3\n"
   ]
  },
  {
   "cell_type": "markdown",
   "metadata": {},
   "source": [
    "# Conditional Statements\n",
    "\n",
    "<b>What Are Conditional Statements?</b>\n",
    "\n",
    "Do I have more than 5 dollars?\n",
    "\n",
    "<img src = \"images/food.png\" alt=\"Drawing\" style=\"width: 500px;\"/>\n",
    "\n",
    "We always make decisions depending on certain <b>conditions</b>."
   ]
  },
  {
   "cell_type": "markdown",
   "metadata": {},
   "source": [
    "<b>if Statements</b>"
   ]
  },
  {
   "cell_type": "markdown",
   "metadata": {},
   "source": [
    "An “if” statement performs the instruction if the condition is True.\n",
    "\n",
    "<code>if (condition is True):\n",
    "\n",
    "   #statement(s)</code>"
   ]
  },
  {
   "cell_type": "markdown",
   "metadata": {},
   "source": [
    "<b>else Statements</b>\n",
    "\n",
    "An “else” statement can be combined with and only with an if statement. \n",
    "\n",
    "An else statement contains the block of code that executes if the condition is False.\n",
    "\n",
    "<code>if (condition is True):\n",
    "\n",
    "   #statement(s)</code>\n",
    "\n",
    "<code>else:\n",
    "    \n",
    "   #statement(s)</code>"
   ]
  },
  {
   "cell_type": "markdown",
   "metadata": {},
   "source": [
    "<b>Computer Interpretation</b>\n",
    "\n",
    "<img src = \"images/food2.png\" alt=\"Drawing\" style=\"width: 400px;\"/>"
   ]
  },
  {
   "cell_type": "markdown",
   "metadata": {},
   "source": [
    "<b>Remember Our Flowchart</b>\n",
    "\n",
    "Example: What should I eat?\n",
    "\n",
    "<img src = \"images/flowchart.png\" alt=\"Drawing\" style=\"width: 1000px;\"/>"
   ]
  },
  {
   "cell_type": "markdown",
   "metadata": {},
   "source": [
    "<b>In-Class Exercises</b>\n",
    "\n",
    "1) Take a number input from the user. \n",
    "\n",
    "        print “Number is greater than 5” if the number is greater than 5.\n",
    "        \n",
    "        print “Number is less than 15” if the number is less then 15\n",
    "        \n",
    "        Print “Number is larger than 15” if the number if larger than 15\n",
    "        \n",
    "2) Take 2 number inputs from the user\n",
    "\n",
    "        print “Numbers are equal” if the numbers are equal\n",
    "        \n",
    "        print “Number 1 is greater than number2” if number 1 is greater than number 2, else print “Number2 is \n",
    "        greater than Number1”"
   ]
  },
  {
   "cell_type": "code",
   "execution_count": null,
   "metadata": {},
   "outputs": [],
   "source": [
    "# Problem 1\n"
   ]
  },
  {
   "cell_type": "code",
   "execution_count": null,
   "metadata": {},
   "outputs": [],
   "source": [
    "# Problem 2\n"
   ]
  },
  {
   "cell_type": "markdown",
   "metadata": {},
   "source": [
    "<b>Conditionals and Logic Practice</b>\n",
    "\n",
    "Grade Calculator:\n",
    "\n",
    "Ask the user for their grade in the class.\n",
    "\n",
    "Output the letter they should receive. \n",
    "\n",
    "    A: 90-100\n",
    "    B: 80-89\n",
    "    C: 70-79\n",
    "    D: 60-69\n",
    "    F: 0-59\n",
    "\n",
    "Example: \n",
    "\n",
    "What grade percent did you get? <b>15</b>\n",
    "\n",
    "You got an F!"
   ]
  },
  {
   "cell_type": "code",
   "execution_count": null,
   "metadata": {},
   "outputs": [],
   "source": []
  },
  {
   "cell_type": "markdown",
   "metadata": {},
   "source": [
    "<b>Classwork (Halloween Special)</b>\n",
    "\n",
    "Remember to start with pseudocode & flowcharts!\n",
    "\n",
    "Quiz of the Day: Create a set of 2 variables that store questions and answers. Use this and the if statement to play this game with a friend! If he can answer all 2 he wins!\n",
    "\n",
    "Example:\n",
    "\n",
    "Question1 = “On which date does Halloween fall?”\n",
    "\n",
    "Answer1 = “October 31”\n",
    "\n",
    ".\n",
    "\n",
    ".\n",
    "\n",
    "<code>ans = input(Question1)\n",
    "\n",
    "if (ans == Answer1):</code>\n",
    "\n",
    "<code>    print(“Correct”)</code>"
   ]
  },
  {
   "cell_type": "code",
   "execution_count": null,
   "metadata": {},
   "outputs": [],
   "source": []
  },
  {
   "cell_type": "markdown",
   "metadata": {},
   "source": [
    "<b>Continue your Quiz</b>\n",
    "\n",
    "1) Create a New Quiz of the Day: \n",
    "\n",
    "2) Create a set of 5 variables that store questions and answers and the if/else statements to play this game with your family! If anyone can answer at least 4 corrects, he/she wins & print them “congrats” and their final score!\n",
    "\n",
    "3) Make a note of how we can improve  the game, we will discuss it in our next class! \n",
    "\n",
    "BONUS: Give them their score out of 5!"
   ]
  },
  {
   "cell_type": "code",
   "execution_count": null,
   "metadata": {},
   "outputs": [],
   "source": []
  },
  {
   "cell_type": "markdown",
   "metadata": {},
   "source": [
    "# Looping\n",
    "\n",
    "<b>“While” Loop</b>\n",
    "\n",
    "A “while” loop statement repeatedly executes a target statement <b>as long as a given condition is true.</b>\n",
    "\n",
    "<code>while (expression):\n",
    "   #statement(s)</code>"
   ]
  },
  {
   "cell_type": "code",
   "execution_count": 1,
   "metadata": {},
   "outputs": [
    {
     "data": {
      "text/html": [
       "\n",
       "<video controls>\n",
       "<source type =\"video/mp4\" src=\"images/dots.mp4\"/>\n",
       "</video>"
      ],
      "text/plain": [
       "<IPython.core.display.HTML object>"
      ]
     },
     "execution_count": 1,
     "metadata": {},
     "output_type": "execute_result"
    }
   ],
   "source": [
    "# RUN THIS CELL TO PLAY DOTS ANIMATION VIDEO\n",
    "\n",
    "from IPython.display import HTML\n",
    "\n",
    "HTML(\"\"\"\n",
    "<video controls>\n",
    "<source type =\"video/mp4\" src=\"images/dots.mp4\"/>\n",
    "</video>\"\"\")"
   ]
  },
  {
   "cell_type": "markdown",
   "metadata": {},
   "source": [
    "How do we create the animation above using a \"while\" loop?"
   ]
  },
  {
   "cell_type": "markdown",
   "metadata": {},
   "source": [
    "<img src = \"images/while.png\" alt=\"Drawing\" style=\"width: 1000px;\"/>"
   ]
  },
  {
   "cell_type": "code",
   "execution_count": null,
   "metadata": {},
   "outputs": [],
   "source": [
    "from turtle import Turtle\n",
    "\n",
    "t= Turtle()\n",
    "t.color('red')\n",
    "t.penup()\n",
    "t.goto(-150,0)\n",
    "x=-150  # create a variable to keep track of loop iteration\n",
    "\n",
    "while x<150:  #loop declaration\n",
    "    \n",
    "       t.pendown()  #code we want to repeat over and over again\n",
    "       t.dot(25)\n",
    "       x=x+25\n",
    "       t.penup()\n",
    "       t.goto(x, 0)"
   ]
  },
  {
   "cell_type": "markdown",
   "metadata": {},
   "source": [
    "# Using randint()\n",
    "\n",
    "randint(): inbuilt function of the random module\n",
    "\n",
    "Syntax :\n",
    "\n",
    "<code>randint(start number, end number)</code>\n",
    "\n",
    "Example (remember to import!):\n",
    "\n",
    "<code>from random import randint \n",
    "    \n",
    "randint(1,3) # random number between 1 and 3 inclusive</code>\n",
    "\n"
   ]
  },
  {
   "cell_type": "markdown",
   "metadata": {},
   "source": [
    "<b>BONUS</b>\n",
    "\n",
    "Play rock Paper Scissors with the computer!\n",
    "\n",
    "Loop until the computer loses"
   ]
  },
  {
   "cell_type": "code",
   "execution_count": null,
   "metadata": {},
   "outputs": [],
   "source": []
  },
  {
   "cell_type": "markdown",
   "metadata": {},
   "source": [
    "\n",
    "<b>BONUS</b>\n",
    "\n",
    "Use the random library to generate a random number between 1 and 100. Create a guessing game where a user has to guess that random number. While the user has guessed less than 10 times, keep asking for a new guess. On each wrong guess, give the user a hint of whether to increase or decrease the value of their guess. If they guess correctly, print “You win!”"
   ]
  },
  {
   "cell_type": "code",
   "execution_count": null,
   "metadata": {},
   "outputs": [],
   "source": []
  }
 ],
 "metadata": {
  "kernelspec": {
   "display_name": "Python 3",
   "language": "python",
   "name": "python3"
  },
  "language_info": {
   "codemirror_mode": {
    "name": "ipython",
    "version": 3
   },
   "file_extension": ".py",
   "mimetype": "text/x-python",
   "name": "python",
   "nbconvert_exporter": "python",
   "pygments_lexer": "ipython3",
   "version": "3.7.7"
  }
 },
 "nbformat": 4,
 "nbformat_minor": 4
}
