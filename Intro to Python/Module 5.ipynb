{
 "cells": [
  {
   "cell_type": "markdown",
   "metadata": {},
   "source": [
    "# Functions\n",
    "\n",
    "<b>What are Functions?</b>\n",
    "\n",
    "We can create our own functions to use repeatedly, like functions we just used (what were these?)!\n",
    "\n",
    "Functions consist of a defined a set of instructions\n",
    "\n",
    "After we define a function, we have to call it in order for the code to execute"
   ]
  },
  {
   "cell_type": "markdown",
   "metadata": {},
   "source": [
    "<b>Defining and Calling</b>\n",
    "\n",
    "Define the function, by constructing a function header and body\n",
    "\n",
    "Call the function by its function name"
   ]
  },
  {
   "cell_type": "markdown",
   "metadata": {},
   "source": [
    "<b>Defining</b>\n",
    "\n",
    "Define with a function header and body"
   ]
  },
  {
   "cell_type": "markdown",
   "metadata": {},
   "source": [
    "<img src = \"images/function.png\" alt=\"Drawing\" style=\"width: 800px;\"/>"
   ]
  },
  {
   "cell_type": "markdown",
   "metadata": {},
   "source": [
    "<img src = \"images/function2.png\" alt=\"Drawing\" style=\"width: 800px;\"/>"
   ]
  },
  {
   "cell_type": "markdown",
   "metadata": {},
   "source": [
    "<b>Return Statements</b>\n",
    "\n",
    "A return statement is used to output a value from the function\n",
    "\n",
    "<code>def add_numbers(num1, num2):</code>\n",
    "\n",
    "<code>    sum = num1 + num2</code>\n",
    "    \n",
    "<code>    return sum</code>  <-- return statement"
   ]
  },
  {
   "cell_type": "markdown",
   "metadata": {},
   "source": [
    "<b>Calling</b>\n",
    "\n",
    "Call a function by its function name:\n",
    "\n",
    "<code>say_hello(name)</code>\n",
    "\n",
    "OR if the function returns a value, store the value in a variable:\n",
    "\n",
    "<code>sum = add_numbers(number1, number2)</code>"
   ]
  },
  {
   "cell_type": "markdown",
   "metadata": {},
   "source": [
    "<b>Defining and Calling</b>\n",
    "\n",
    "<img src = \"images/function2.png\" alt=\"Drawing\" style=\"width: 800px;\"/>"
   ]
  },
  {
   "cell_type": "markdown",
   "metadata": {},
   "source": [
    "<b>In-Class Exercise</b>\n",
    "\n",
    "Answer the questions below about the following function:\n",
    "\n",
    "<code>def compute_difference(num1, num2):\n",
    "    return num1 - num2</code>\n",
    "    \n",
    "1) What is the function’s name?\n",
    "\n",
    "2) Does the function have input parameter(s)? If so, what?\n",
    "\n",
    "3) Does the function return anything? If so, what is being returned?\n",
    "\n",
    "4) Show how you would call this function\n"
   ]
  },
  {
   "cell_type": "code",
   "execution_count": null,
   "metadata": {},
   "outputs": [],
   "source": []
  },
  {
   "cell_type": "markdown",
   "metadata": {},
   "source": [
    "<b>Classwork</b>\n",
    "\n",
    "For each problem below, define the function and the use the function\n",
    "\n",
    "1) Define a function that adds two integers\n",
    "\n",
    "    Get two integer inputs from the user\n",
    "\n",
    "    Add the two integers\n",
    "\n",
    "    Return the result\n",
    "\n",
    "2) Define a function that greets a person\n",
    "\n",
    "    Get a name input from the user\n",
    "\n",
    "    Return a greeting message (ex. “Hello, John Smith!”)\n",
    "\n",
    "3) Define a function that calculates the difference of two numbers\n"
   ]
  },
  {
   "cell_type": "code",
   "execution_count": 1,
   "metadata": {},
   "outputs": [],
   "source": [
    "# Problem 1\n"
   ]
  },
  {
   "cell_type": "code",
   "execution_count": null,
   "metadata": {},
   "outputs": [],
   "source": [
    "# Problem 2\n"
   ]
  },
  {
   "cell_type": "markdown",
   "metadata": {},
   "source": [
    "<b>Classwork</b>\n",
    "\n",
    "Define a function that takes a user’s name and age and prints it out\n",
    "\n",
    "    printinfo(name, age) \n",
    "\n",
    "See what happens if you invoke it as: \n",
    "\n",
    "    a) printinfo(\"Miki\", 50)\n",
    "\n",
    "    b) printinfo(name = \"Miki\", age = 100)\n",
    "\n",
    "    c) printinfo(age = 1, name = \"MickeyMouse\")\n",
    "\n",
    "    d) myName = \"Rajesh Pai\"\n",
    "       myAge = 30\n",
    "       printinfo(myName, myAge)\n",
    "    \n",
    "Try printinfo(40) or printinfo()\n"
   ]
  },
  {
   "cell_type": "code",
   "execution_count": null,
   "metadata": {},
   "outputs": [],
   "source": []
  },
  {
   "cell_type": "markdown",
   "metadata": {},
   "source": [
    "# Homework\n",
    "\n",
    "<b>Total Restaurant Bill Calculator</b>\n",
    "\n",
    "You just finished eating at your favorite restaurant, and received this bill:\n",
    "\n",
    "Cost of meal: $44.50. In addition to the cost of the meal, the restaurant will charge a Restaurant tax of 6.75%.\n",
    "\n",
    "You also want to provide a tip. Write a function which will compute the tip amount on the total bill (cost of the meal and the Restaurant tax) when the tip amount is a percent of the total bill. \n",
    "\n",
    "I.e. calculate_tip(total_bill, tip_percent) \n",
    "\n",
    "For e.g. calculate_tip(100, 10) should return 10, \n",
    "\n",
    "Hint: get decimal form of percent by dividing 6.75 by 100 (6.75/100) \n",
    "\n",
    "Can you pay a tip of 10%, 15%, or 20% if you have only $50 in your pocket to pay!\n",
    "\n"
   ]
  },
  {
   "cell_type": "code",
   "execution_count": null,
   "metadata": {},
   "outputs": [],
   "source": [
    "# Homework code\n"
   ]
  },
  {
   "cell_type": "markdown",
   "metadata": {},
   "source": [
    "<b>Short Quiz</b>\n",
    "\n",
    "1) Do Functions need Arguments or Variables?\n",
    "\n",
    "2) Can Functions be called before defining them in the code?\n",
    "\n",
    "3) Does executable code inside a function need to be indented?\n",
    "\n",
    "4) Would a function <code>fun_function (var 1, var 2)</code> be called in your program, as \n",
    "    \n",
    "    fun_function(“hello”) or fun_function(10, 12)\n",
    "\n",
    "5) Does a function need a return statement?\n",
    "\n",
    "6) Can a function return a whole number? "
   ]
  },
  {
   "cell_type": "markdown",
   "metadata": {},
   "source": [
    "Quiz Answers:\n"
   ]
  },
  {
   "cell_type": "markdown",
   "metadata": {},
   "source": [
    "<b>Review Homework: Restaurant Tip Calculators </b>\n",
    "\n",
    "<img src = \"images/restauranttip.png\" alt=\"Drawing\" style=\"width: 600px;\"/>"
   ]
  },
  {
   "cell_type": "markdown",
   "metadata": {},
   "source": [
    "<b>Drawing with Functions</b>\n",
    "\n",
    "What shapes are used to build the house?"
   ]
  },
  {
   "cell_type": "markdown",
   "metadata": {},
   "source": [
    "<img src = \"images/house3.png\" alt=\"Drawing\" style=\"width: 700px;\"/>"
   ]
  },
  {
   "cell_type": "markdown",
   "metadata": {},
   "source": [
    "Start with pseudocode! Recall how to draw a square...\n",
    "\n",
    "1) Define a function to draw a rectangle\n",
    "\n",
    "<code>    draw_rectangle(turtle_name, width, height, color)</code>\n",
    "\n",
    "2) Define a function to draw a triangle\n",
    "\n",
    "<code>   draw_triangle(turtle_name, length, color)</code>\n",
    "\n",
    "Use these functions to draw the house!\n"
   ]
  },
  {
   "cell_type": "code",
   "execution_count": null,
   "metadata": {},
   "outputs": [],
   "source": [
    "# draw house\n"
   ]
  },
  {
   "cell_type": "markdown",
   "metadata": {},
   "source": [
    "<b>Homework</b>\n",
    "\n",
    "Draw your own house with different location doors, windows and maybe a chimney?\n",
    "\n",
    "Bonus: draw a tree near your house using the <code>draw_rectangle</code> and <code>draw_triangle</code> functions \n"
   ]
  },
  {
   "cell_type": "code",
   "execution_count": null,
   "metadata": {},
   "outputs": [],
   "source": [
    "# Homework\n"
   ]
  },
  {
   "cell_type": "markdown",
   "metadata": {},
   "source": [
    "<b>Conditional Statements: “elif”</b>\n",
    "\n",
    "An “elif” statement can be combined with and only with an if statement. \n",
    "\n",
    "An elif statement contains the block of code that executes if a different condition is also true.\n",
    "\n",
    "    There can be as many “elif”s as necessary!\n",
    "    \n",
    "<code>if (condition is True):\n",
    "\n",
    "   #statement(s)</code>\n",
    "\n",
    "<code>elif (another condition is True):\n",
    "    \n",
    "   #statement(s)</code>"
   ]
  },
  {
   "cell_type": "markdown",
   "metadata": {},
   "source": [
    "<b>Combining “if”, “elif”, and “else”</b>\n",
    "\n",
    "<code>if (condition is True):\n",
    "\n",
    "   #statement(s)</code>\n",
    "\n",
    "<code>elif (another condition is True):\n",
    "    \n",
    "   #statement(s)</code>\n",
    "   \n",
    "<code>else:\n",
    "    \n",
    "   #statement(s)</code>"
   ]
  },
  {
   "cell_type": "markdown",
   "metadata": {},
   "source": [
    "<b>Class Exercise</b>\n",
    "\n",
    "Get day of the week from the user\n",
    "\n",
    "<code>   day_of_week  = input(“What day of the week is it?”)</code>\n",
    "\n",
    "Write a program to print “how you feel on a particular day of the week”\n",
    "\n",
    "Output should be:\n",
    "\n",
    "    “Today is Monday, and I feel weekend blues”\n",
    "    “Today is Tuesday, and I feel happy”\n",
    "\n"
   ]
  },
  {
   "cell_type": "code",
   "execution_count": null,
   "metadata": {},
   "outputs": [],
   "source": [
    "# Class Exercise\n"
   ]
  },
  {
   "cell_type": "markdown",
   "metadata": {},
   "source": [
    "<b>Thought Question</b>\n",
    "\n",
    "How do you represent the following statement?\n",
    "\n",
    "    3 < x < 10"
   ]
  },
  {
   "cell_type": "markdown",
   "metadata": {},
   "source": [
    "<img src = \"images/and1.png\" alt=\"Drawing\" style=\"width: 320px;\"/>"
   ]
  },
  {
   "cell_type": "markdown",
   "metadata": {},
   "source": [
    "<img src = \"images/and2.png\" alt=\"Drawing\" style=\"width: 300px;\"/>"
   ]
  },
  {
   "cell_type": "markdown",
   "metadata": {},
   "source": [
    "We know that these statements are both true. Therefore, \n",
    "\n",
    "    3 < x and x < 10"
   ]
  },
  {
   "cell_type": "markdown",
   "metadata": {},
   "source": [
    "<b>Opposite Logic “not”</b>\n",
    "\n",
    "The “not” operator applies the opposite condition:\n",
    "\n",
    "    Makes a True boolean value False\n",
    "    \n",
    "    Makes a False boolean value True\n",
    "\n",
    "<code>bool2 = False\n",
    " print(not bool2)</code>  <-- prints \"not\" False, which is True"
   ]
  },
  {
   "cell_type": "markdown",
   "metadata": {},
   "source": [
    "<b>Combining Logic using “and”</b>\n",
    "\n",
    "The “and” operator produces:\n",
    "\n",
    "    True if and only if both the conditions are True, \n",
    "\n",
    "    Otherwise, produces False\n",
    "\n",
    "<code>bool = True\n",
    "bool2 = False\n",
    "print(bool and bool2)</code>"
   ]
  },
  {
   "cell_type": "markdown",
   "metadata": {},
   "source": [
    "<b>Re-visiting Our Thought Question</b>\n",
    "\n",
    "How do you represent the following statement? \n",
    "\n",
    "    3 < x < 10\n",
    "    \n",
    "We know that these statements are both true. Therefore, \n",
    "\n",
    "    3 < x and x < 10\n",
    "    \n",
    "Can we write: “x > 3 and x < 10” as an operation logic in one statement?\n"
   ]
  },
  {
   "cell_type": "markdown",
   "metadata": {},
   "source": [
    "<b>In-Class Exercise</b>\n",
    "\n",
    "1) Given 2 string str1 and str2, print yay if they are equal\n",
    "\n",
    "2) Given 2 ints, a and b, print “yay” if they are equal else print “nay”\n",
    "\n",
    "3) Take a number input from the user ←- Redo this problem using a Boolean Logic expression\n",
    "\n",
    "    print yay if the number is greater than 3.\n",
    "\n",
    "    Print nay if the number is less than 3\n",
    "\n",
    "    print yay if the number is less then 10\n",
    "\n",
    "    Print nay if the number if larger than 10"
   ]
  },
  {
   "cell_type": "code",
   "execution_count": 2,
   "metadata": {},
   "outputs": [],
   "source": [
    "# Problem 1\n"
   ]
  },
  {
   "cell_type": "code",
   "execution_count": 3,
   "metadata": {},
   "outputs": [],
   "source": [
    "# Problem 2\n"
   ]
  },
  {
   "cell_type": "code",
   "execution_count": 4,
   "metadata": {},
   "outputs": [],
   "source": [
    "# Problem 3\n"
   ]
  }
 ],
 "metadata": {
  "kernelspec": {
   "display_name": "Python 3",
   "language": "python",
   "name": "python3"
  },
  "language_info": {
   "codemirror_mode": {
    "name": "ipython",
    "version": 3
   },
   "file_extension": ".py",
   "mimetype": "text/x-python",
   "name": "python",
   "nbconvert_exporter": "python",
   "pygments_lexer": "ipython3",
   "version": "3.7.7"
  }
 },
 "nbformat": 4,
 "nbformat_minor": 4
}
